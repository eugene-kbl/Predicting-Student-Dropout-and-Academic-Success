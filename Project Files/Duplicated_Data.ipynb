{
  "nbformat": 4,
  "nbformat_minor": 0,
  "metadata": {
    "colab": {
      "provenance": []
    },
    "kernelspec": {
      "name": "python3",
      "display_name": "Python 3"
    },
    "language_info": {
      "name": "python"
    }
  },
  "cells": [
    {
      "cell_type": "markdown",
      "source": [
        "## Duplicated Data"
      ],
      "metadata": {
        "id": "THjiFZI4v0Mc"
      }
    },
    {
      "cell_type": "markdown",
      "source": [
        "### Code"
      ],
      "metadata": {
        "id": "XSjAxg4Ck0it"
      }
    },
    {
      "cell_type": "code",
      "source": [
        "df.duplicated().sum()"
      ],
      "metadata": {
        "colab": {
          "base_uri": "https://localhost:8080/"
        },
        "id": "mJ_vhJI1vIoR",
        "outputId": "9c4083eb-d9c1-48e6-a825-25ee5f782f98"
      },
      "execution_count": null,
      "outputs": [
        {
          "output_type": "execute_result",
          "data": {
            "text/plain": [
              "0"
            ]
          },
          "metadata": {},
          "execution_count": 206
        }
      ]
    },
    {
      "cell_type": "markdown",
      "source": [
        "### Comment"
      ],
      "metadata": {
        "id": "i74c16vbkDbD"
      }
    },
    {
      "cell_type": "markdown",
      "source": [
        "---\n",
        "\n",
        "**The dataset does not contain duplicated values.**\n",
        "\n",
        "---"
      ],
      "metadata": {
        "id": "Z8AyAXA05Ll6"
      }
    }
  ]
}