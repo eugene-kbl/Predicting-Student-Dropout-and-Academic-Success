{
  "nbformat": 4,
  "nbformat_minor": 0,
  "metadata": {
    "colab": {
      "provenance": []
    },
    "kernelspec": {
      "name": "python3",
      "display_name": "Python 3"
    },
    "language_info": {
      "name": "python"
    }
  },
  "cells": [
    {
      "cell_type": "markdown",
      "source": [
        "## Incomplete Data"
      ],
      "metadata": {
        "id": "uhhLxIaJvxxm"
      }
    },
    {
      "cell_type": "markdown",
      "source": [
        "### Code"
      ],
      "metadata": {
        "id": "nHSgc2QNkpzU"
      }
    },
    {
      "cell_type": "code",
      "source": [
        "df.isnull().sum().sum()"
      ],
      "metadata": {
        "colab": {
          "base_uri": "https://localhost:8080/"
        },
        "id": "QjbBuMXVvAie",
        "outputId": "2c3ee325-d63d-44ca-b199-863677b4a7df"
      },
      "execution_count": null,
      "outputs": [
        {
          "output_type": "execute_result",
          "data": {
            "text/plain": [
              "0"
            ]
          },
          "metadata": {},
          "execution_count": 199
        }
      ]
    },
    {
      "cell_type": "markdown",
      "source": [
        "### Comment"
      ],
      "metadata": {
        "id": "2qrtexdOkWKU"
      }
    },
    {
      "cell_type": "markdown",
      "source": [
        "---\n",
        "\n",
        "**Dataset does not contain missing values.**\n",
        "\n",
        "---"
      ],
      "metadata": {
        "id": "1hBhUGcJzBo7"
      }
    }
  ]
}