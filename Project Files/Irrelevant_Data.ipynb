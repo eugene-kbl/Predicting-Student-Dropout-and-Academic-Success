{
  "nbformat": 4,
  "nbformat_minor": 0,
  "metadata": {
    "colab": {
      "provenance": []
    },
    "kernelspec": {
      "name": "python3",
      "display_name": "Python 3"
    },
    "language_info": {
      "name": "python"
    }
  },
  "cells": [
    {
      "cell_type": "markdown",
      "source": [
        "## Irrelevant Data"
      ],
      "metadata": {
        "id": "N4Tv28D6wc7d"
      }
    },
    {
      "cell_type": "markdown",
      "source": [
        "### Code"
      ],
      "metadata": {
        "id": "7A-50lTok2l4"
      }
    },
    {
      "cell_type": "code",
      "source": [
        "df = df[(df['Target'] != 'Enrolled')]"
      ],
      "metadata": {
        "id": "f7l1oXz8RDcA"
      },
      "execution_count": null,
      "outputs": []
    },
    {
      "cell_type": "code",
      "source": [
        "df['Target'] = df['Target'].map({'Dropout': 0, 'Graduate': 1})"
      ],
      "metadata": {
        "colab": {
          "base_uri": "https://localhost:8080/"
        },
        "id": "fFkW5efYd3xA",
        "outputId": "7b5ea237-0c6c-477b-911f-ad7996e598da"
      },
      "execution_count": null,
      "outputs": [
        {
          "output_type": "stream",
          "name": "stderr",
          "text": [
            "<ipython-input-204-ad44345b3149>:1: SettingWithCopyWarning: \n",
            "A value is trying to be set on a copy of a slice from a DataFrame.\n",
            "Try using .loc[row_indexer,col_indexer] = value instead\n",
            "\n",
            "See the caveats in the documentation: https://pandas.pydata.org/pandas-docs/stable/user_guide/indexing.html#returning-a-view-versus-a-copy\n",
            "  df['Target'] = df['Target'].map({'Dropout': 0, 'Graduate': 1})\n"
          ]
        }
      ]
    },
    {
      "cell_type": "markdown",
      "source": [
        "### Comment"
      ],
      "metadata": {
        "id": "STQy2oEvkOH2"
      }
    },
    {
      "cell_type": "markdown",
      "source": [
        "---\n",
        "\n",
        "**Target variable contains values for students who have \"Enrolled\", which is not inline with the goal of this project and its research questions. \n",
        "Therefore, each row with value \"Enrolled\" will be dropped and each row with value \"Dropout\" and \"Graduate\" will be replaced with 0 and 1 respectively.**\n",
        "\n",
        "---"
      ],
      "metadata": {
        "id": "2Yf80UuI348t"
      }
    },
    {
      "cell_type": "code",
      "source": [
        "df.info()"
      ],
      "metadata": {
        "colab": {
          "base_uri": "https://localhost:8080/"
        },
        "id": "1IkO43xGeQmP",
        "outputId": "7abc43b4-3a0b-41b9-893b-5250e73e6712"
      },
      "execution_count": null,
      "outputs": [
        {
          "output_type": "stream",
          "name": "stdout",
          "text": [
            "<class 'pandas.core.frame.DataFrame'>\n",
            "Int64Index: 3630 entries, 0 to 4423\n",
            "Data columns (total 37 columns):\n",
            " #   Column                                          Non-Null Count  Dtype   \n",
            "---  ------                                          --------------  -----   \n",
            " 0   Marital status                                  3630 non-null   category\n",
            " 1   Application mode                                3630 non-null   category\n",
            " 2   Application order                               3630 non-null   category\n",
            " 3   Course                                          3630 non-null   category\n",
            " 4   Daytime/evening attendance\t                     3630 non-null   category\n",
            " 5   Previous qualification                          3630 non-null   category\n",
            " 6   Previous qualification (grade)                  3630 non-null   float64 \n",
            " 7   Nacionality                                     3630 non-null   category\n",
            " 8   Mother's qualification                          3630 non-null   category\n",
            " 9   Father's qualification                          3630 non-null   category\n",
            " 10  Mother's occupation                             3630 non-null   category\n",
            " 11  Father's occupation                             3630 non-null   category\n",
            " 12  Admission grade                                 3630 non-null   float64 \n",
            " 13  Displaced                                       3630 non-null   category\n",
            " 14  Educational special needs                       3630 non-null   category\n",
            " 15  Debtor                                          3630 non-null   category\n",
            " 16  Tuition fees up to date                         3630 non-null   category\n",
            " 17  Gender                                          3630 non-null   category\n",
            " 18  Scholarship holder                              3630 non-null   category\n",
            " 19  Age at enrollment                               3630 non-null   int64   \n",
            " 20  International                                   3630 non-null   category\n",
            " 21  Curricular units 1st sem (credited)             3630 non-null   int64   \n",
            " 22  Curricular units 1st sem (enrolled)             3630 non-null   int64   \n",
            " 23  Curricular units 1st sem (evaluations)          3630 non-null   int64   \n",
            " 24  Curricular units 1st sem (approved)             3630 non-null   int64   \n",
            " 25  Curricular units 1st sem (grade)                3630 non-null   float64 \n",
            " 26  Curricular units 1st sem (without evaluations)  3630 non-null   int64   \n",
            " 27  Curricular units 2nd sem (credited)             3630 non-null   int64   \n",
            " 28  Curricular units 2nd sem (enrolled)             3630 non-null   int64   \n",
            " 29  Curricular units 2nd sem (evaluations)          3630 non-null   int64   \n",
            " 30  Curricular units 2nd sem (approved)             3630 non-null   int64   \n",
            " 31  Curricular units 2nd sem (grade)                3630 non-null   float64 \n",
            " 32  Curricular units 2nd sem (without evaluations)  3630 non-null   int64   \n",
            " 33  Unemployment rate                               3630 non-null   float64 \n",
            " 34  Inflation rate                                  3630 non-null   float64 \n",
            " 35  GDP                                             3630 non-null   float64 \n",
            " 36  Target                                          3630 non-null   int64   \n",
            "dtypes: category(18), float64(7), int64(12)\n",
            "memory usage: 640.6 KB\n"
          ]
        }
      ]
    }
  ]
}