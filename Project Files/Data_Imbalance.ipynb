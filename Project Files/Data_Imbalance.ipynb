{
  "nbformat": 4,
  "nbformat_minor": 0,
  "metadata": {
    "colab": {
      "provenance": []
    },
    "kernelspec": {
      "name": "python3",
      "display_name": "Python 3"
    },
    "language_info": {
      "name": "python"
    }
  },
  "cells": [
    {
      "cell_type": "markdown",
      "source": [
        "## Data Imbalance"
      ],
      "metadata": {
        "id": "g_oyBKjawiP4"
      }
    },
    {
      "cell_type": "markdown",
      "source": [
        "### Code"
      ],
      "metadata": {
        "id": "GJlOrF85kuSE"
      }
    },
    {
      "cell_type": "code",
      "source": [
        "def addlabels(x,y):\n",
        "    for i in range(len(x)):\n",
        "        plt.text(i, y[i]//2, y[i], ha = 'center')"
      ],
      "metadata": {
        "id": "9Q4t6pZYwfRw"
      },
      "execution_count": null,
      "outputs": []
    },
    {
      "cell_type": "code",
      "source": [
        "fig = plt.figure(figsize =(8, 5))\n",
        "x = df.groupby(['Target']).size().index \n",
        "y = df.groupby(['Target']).size().values\n",
        "\n",
        "plt.bar(x, y, width = 0.6, color=['yellowgreen','salmon','lightblue'])\n",
        "plt.title('Target Distribution', fontsize=16, fontweight='bold') \n",
        "plt.xlabel('Target', fontsize=14, fontweight='bold')\n",
        "plt.ylabel('Frequency', fontsize=14, fontweight='bold')\n",
        "\n",
        "addlabels(x, y)\n",
        "\n",
        "plt.show()"
      ],
      "metadata": {
        "colab": {
          "base_uri": "https://localhost:8080/",
          "height": 356
        },
        "id": "2j9WQ5ZX2Lqt",
        "outputId": "49ceadd4-2d5e-4639-9f44-ed217deaaeb4"
      },
      "execution_count": null,
      "outputs": [
        {
          "output_type": "display_data",
          "data": {
            "text/plain": [
              "<Figure size 576x360 with 1 Axes>"
            ],
            "image/png": "[encoded data removed]"
          },
          "metadata": {
            "needs_background": "light"
          }
        }
      ]
    },
    {
      "cell_type": "markdown",
      "source": [
        "### Comment"
      ],
      "metadata": {
        "id": "vU0yp7HykQIW"
      }
    },
    {
      "cell_type": "markdown",
      "source": [
        "---\n",
        "**The Target variable is heavily skewed towards \"Graduate\" class.**\n",
        "\n",
        "**Data imbalance is present in the dataset**\n",
        "\n",
        "---"
      ],
      "metadata": {
        "id": "ocLU1OJ429M9"
      }
    }
  ]
}